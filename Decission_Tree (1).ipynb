{
  "nbformat": 4,
  "nbformat_minor": 0,
  "metadata": {
    "colab": {
      "provenance": []
    },
    "kernelspec": {
      "name": "python3",
      "display_name": "Python 3"
    },
    "language_info": {
      "name": "python"
    }
  },
  "cells": [
    {
      "cell_type": "markdown",
      "source": [
        "\n",
        "**1. What is a Decision Tree, and how does it work**\n",
        "\n",
        "A **Decision Tree** is a supervised machine learning algorithm used for **classification** and **regression** tasks. It mimics human decision-making by splitting the data into branches based on feature values.\n",
        "\n",
        "* The model starts at the **root node**, examines a feature, and splits the data into subsets.\n",
        "* Each **internal node** represents a decision based on a feature.\n",
        "* Each **leaf node** holds the final outcome (a class label or a numerical value).\n",
        "\n",
        "The tree splits data recursively to maximize homogeneity in each branch using a criterion like **Gini impurity** or **Information Gain**.\n",
        "\n",
        "---\n",
        "\n",
        "**2. What are impurity measures in Decision Trees**\n",
        "**Impurity measures** quantify how mixed or impure the class distribution is within a node. They guide the splitting of nodes in a tree. The most common impurity measures are:\n",
        "\n",
        "* **Gini Impurity**: Measures the probability of incorrect classification of a randomly chosen element.\n",
        "* **Entropy**: Measures the level of disorder or uncertainty.\n",
        "* **Classification Error** (less common): Proportion of misclassified samples.\n",
        "\n",
        "A lower impurity indicates a more homogenous group.\n",
        "\n",
        "---\n",
        "\n",
        "**3. What is the mathematical formula for Gini Impurity**\n",
        "The **Gini Impurity (G)** for a node is:\n",
        "\n",
        "$$\n",
        "G = 1 - \\sum_{i=1}^{n} p_i^2\n",
        "$$\n",
        "\n",
        "Where:\n",
        "\n",
        "* $p_i$ = Probability of class $i$ at the node\n",
        "* $n$ = Number of classes\n",
        "\n",
        "Gini Impurity ranges between 0 (pure node) and up to 0.5 for a binary classification with equal probabilities.\n",
        "\n",
        "---\n",
        "\n",
        "**4. What is the mathematical formula for Entropy**\n",
        "The **Entropy (H)** for a node is:\n",
        "\n",
        "$$\n",
        "H = - \\sum_{i=1}^{n} p_i \\log_2 p_i\n",
        "$$\n",
        "\n",
        "Where:\n",
        "\n",
        "* $p_i$ = Probability of class $i$\n",
        "* $n$ = Number of classes\n",
        "\n",
        "Entropy is 0 when the node is pure and reaches its maximum when classes are uniformly distributed.\n",
        "\n",
        "---\n",
        "\n",
        "**5. What is Information Gain, and how is it used in Decision Trees**\n",
        "**Information Gain (IG)** is the reduction in impurity (Entropy or Gini) after a dataset is split on a feature. It's used to decide which feature to split on at each step in the tree.\n",
        "\n",
        "$$\n",
        "IG = H(parent) - \\sum_{i=1}^{k} \\frac{N_i}{N} H(child_i)\n",
        "$$\n",
        "\n",
        "Where:\n",
        "\n",
        "* $H$ = Entropy (or other impurity measure)\n",
        "* $N$ = Total number of instances\n",
        "* $N_i$ = Number of instances in child $i$\n",
        "\n",
        "The feature with the highest Information Gain is selected for splitting.\n",
        "\n",
        "---\n",
        "\n",
        "**6. What is the difference between Gini Impurity and Entropy**\n",
        "\n",
        "| Feature        | Gini Impurity                                      | Entropy                          |\n",
        "| -------------- | -------------------------------------------------- | -------------------------------- |\n",
        "| Formula        | $1 - \\sum p_i^2$                                   | $-\\sum p_i \\log_2 p_i$           |\n",
        "| Interpretation | Measures misclassification rate                    | Measures disorder/uncertainty    |\n",
        "| Speed          | Faster to compute                                  | Slightly slower due to logarithm |\n",
        "| Preference     | Used in CART (Classification and Regression Trees) | Used in ID3, C4.5 algorithms     |\n",
        "\n",
        "Both aim to reduce impurity, but their calculations and scaling differ.\n",
        "\n",
        "---\n",
        "\n",
        "**7. What is the mathematical explanation behind Decision Trees**\n",
        "A Decision Tree builds a model in the form of a **tree structure**:\n",
        "\n",
        "1. For each node:\n",
        "\n",
        "   * Calculate the impurity (Gini/Entropy) before splitting.\n",
        "   * For each feature, calculate the impurity of its splits.\n",
        "   * Choose the feature that gives the **maximum reduction in impurity** (i.e., maximum gain).\n",
        "2. Repeat recursively until:\n",
        "\n",
        "   * The node is pure, or\n",
        "   * A stopping criterion is met (e.g., minimum samples, max depth)\n",
        "\n",
        "It uses **recursive binary splitting** (for most implementations like CART).\n",
        "\n",
        "---\n",
        "\n",
        "**8. What is Pre-Pruning in Decision Trees**\n",
        "**Pre-Pruning** (also called early stopping) involves **halting the tree growth early**, before it perfectly classifies the training data.\n",
        "\n",
        "Methods:\n",
        "\n",
        "* Set a **maximum depth**.\n",
        "* Require a **minimum number of samples per node**.\n",
        "* Set a threshold on **impurity reduction**.\n",
        "\n",
        "Purpose: Avoid overfitting by stopping the tree from becoming too complex.\n",
        "\n",
        "---\n",
        "\n",
        "**9. What is Post-Pruning in Decision Trees**\n",
        "**Post-Pruning** allows the Decision Tree to fully grow, then **removes unnecessary branches** that do not contribute to generalization.\n",
        "\n",
        "Steps:\n",
        "\n",
        "* Grow the full tree.\n",
        "* Evaluate subtrees using a validation set or cross-validation.\n",
        "* Prune branches that reduce performance.\n",
        "\n",
        "It simplifies the tree **after** training to reduce overfitting.\n",
        "\n",
        "---\n",
        "\n",
        "**10. What is the difference between Pre-Pruning and Post-Pruning**\n",
        "\n",
        "| Feature    | Pre-Pruning                           | Post-Pruning                              |\n",
        "| ---------- | ------------------------------------- | ----------------------------------------- |\n",
        "| Timing     | Stops tree growth during training     | Trims tree after full growth              |\n",
        "| Simplicity | Faster, less complex trees            | More accurate but computationally heavy   |\n",
        "| Risk       | Might stop early, missing good splits | Grows complex tree first, then simplifies |\n",
        "| Control    | Uses constraints like max depth       | Uses validation set to prune              |\n",
        "\n",
        "---\n",
        "\n",
        "**11. What is a Decision Tree Regressor**\n",
        "A **Decision Tree Regressor** is a variant of Decision Tree used for **regression tasks** (predicting continuous outputs).\n",
        "\n",
        "* It splits the data like in classification trees but uses **Mean Squared Error (MSE)** or **Mean Absolute Error (MAE)** as the splitting criterion.\n",
        "* At each leaf, it predicts the **mean** of the target values in that region.\n",
        "\n",
        "---\n",
        "\n",
        "**12. What are the advantages and disadvantages of Decision Trees**\n",
        "\n",
        "**Advantages:**\n",
        "\n",
        "* Easy to understand and interpret.\n",
        "* Requires little data preprocessing.\n",
        "* Can handle both numerical and categorical data.\n",
        "* Works well with nonlinear relationships.\n",
        "\n",
        "**Disadvantages:**\n",
        "\n",
        "* Prone to overfitting.\n",
        "* Can be unstable with small variations in data.\n",
        "* Biased towards features with more levels (without correction).\n",
        "* Not good at extrapolation in regression tasks.\n",
        "\n",
        "---\n",
        "\n",
        "**13. How does a Decision Tree handle missing values**\n",
        "Decision Trees handle missing values using:\n",
        "\n",
        "* **Surrogate splits**: Alternative features used when the primary split feature is missing.\n",
        "* **Imputation**: Filling missing values using median/mode before training.\n",
        "* **Soft splits** (in some libraries): Probabilistic routing based on other samples.\n",
        "\n",
        "Not all implementations handle missing values natively; some require preprocessing.\n",
        "\n",
        "---\n",
        "\n",
        "**14. How does a Decision Tree handle categorical features**\n",
        "Decision Trees can natively handle **categorical features** by:\n",
        "\n",
        "* Creating a split for each category.\n",
        "* Grouping categories based on impurity measures (especially when there are many levels).\n",
        "\n",
        "Some implementations (like `sklearn`) require **one-hot encoding** unless using specialized methods (like LightGBM or CatBoost).\n",
        "\n",
        "---\n",
        "\n",
        "**15. What are some real-world applications of Decision Trees?**\n",
        "\n",
        "* **Medical Diagnosis**: Predicting diseases based on symptoms.\n",
        "* **Loan Approval**: Credit scoring and risk analysis.\n",
        "* **Customer Segmentation**: Based on behavior and demographics.\n",
        "* **Fraud Detection**: Identifying unusual transaction patterns.\n",
        "* **Manufacturing**: Predicting equipment failures.\n",
        "* **Marketing**: Recommending products based on user attributes.\n",
        "* **HR Analytics**: Predicting employee attrition or performance.\n",
        "\n",
        "\n"
      ],
      "metadata": {
        "id": "VaI8hQQechOY"
      }
    },
    {
      "cell_type": "code",
      "source": [
        "# Pratical"
      ],
      "metadata": {
        "id": "NtenJsq1c3Pq"
      },
      "execution_count": null,
      "outputs": []
    },
    {
      "cell_type": "code",
      "source": [
        "# 01* Write a Python program to train a Decision Tree Classifier on the Iris dataset and print the model accuracy*\n",
        "from sklearn.datasets import load_iris\n",
        "from sklearn.tree import DecisionTreeClassifier\n",
        "from sklearn.model_selection import train_test_split\n",
        "from sklearn.metrics import accuracy_score\n",
        "\n",
        "iris = load_iris()\n",
        "X_train, X_test, y_train, y_test = train_test_split(iris.data, iris.target, test_size=0.3, random_state=0)\n",
        "\n",
        "clf = DecisionTreeClassifier()\n",
        "clf.fit(X_train, y_train)\n",
        "\n",
        "y_pred = clf.predict(X_test)\n",
        "print(\"Accuracy:\", accuracy_score(y_test, y_pred))\n"
      ],
      "metadata": {
        "colab": {
          "base_uri": "https://localhost:8080/"
        },
        "id": "FFnFc-4gdHRD",
        "outputId": "0cc4b93f-fe88-4c35-9062-8cb4fafac692"
      },
      "execution_count": null,
      "outputs": [
        {
          "output_type": "stream",
          "name": "stdout",
          "text": [
            "Accuracy: 0.9777777777777777\n"
          ]
        }
      ]
    },
    {
      "cell_type": "code",
      "source": [
        "#  Write a Python program to train a Decision Tree Classifier using Gini Impurity as the criterion and print the feature importances*\n",
        "\n",
        "# Import necessary libraries\n",
        "from sklearn.datasets import load_iris\n",
        "from sklearn.tree import DecisionTreeClassifier\n",
        "import pandas as pd\n",
        "import numpy as np\n",
        "\n",
        "# Load the Iris dataset\n",
        "iris = load_iris()\n",
        "X = iris.data\n",
        "y = iris.target\n",
        "feature_names = iris.feature_names\n",
        "\n",
        "# Train the Decision Tree Classifier with Gini Impurity\n",
        "clf = DecisionTreeClassifier(criterion='gini', random_state=42)\n",
        "clf.fit(X, y)\n",
        "\n",
        "# Get feature importances\n",
        "importances = clf.feature_importances_\n",
        "\n",
        "# Display feature importances\n",
        "feature_importance_df = pd.DataFrame({\n",
        "    'Feature': feature_names,\n",
        "    'Importance': np.round(importances, 4)\n",
        "}).sort_values(by='Importance', ascending=False)\n",
        "\n",
        "print(\"Feature Importances using Gini Impurity:\")\n",
        "print(feature_importance_df)\n"
      ],
      "metadata": {
        "colab": {
          "base_uri": "https://localhost:8080/"
        },
        "id": "WmKlUDFYhf4I",
        "outputId": "f7a55300-992b-4a2c-d971-610017a3b2cf"
      },
      "execution_count": null,
      "outputs": [
        {
          "output_type": "stream",
          "name": "stdout",
          "text": [
            "Feature Importances using Gini Impurity:\n",
            "             Feature  Importance\n",
            "2  petal length (cm)      0.5641\n",
            "3   petal width (cm)      0.4226\n",
            "0  sepal length (cm)      0.0133\n",
            "1   sepal width (cm)      0.0000\n"
          ]
        }
      ]
    },
    {
      "cell_type": "code",
      "source": [
        "# Write a Python program to train a Decision Tree Classifier using Entropy as the splitting criterion and print the model accuracy*\n",
        "# Import necessary libraries\n",
        "from sklearn.datasets import load_iris\n",
        "from sklearn.tree import DecisionTreeClassifier\n",
        "from sklearn.model_selection import train_test_split\n",
        "from sklearn.metrics import accuracy_score\n",
        "\n",
        "# Load the Iris dataset\n",
        "iris = load_iris()\n",
        "X = iris.data\n",
        "y = iris.target\n",
        "\n",
        "# Split the dataset into train and test sets (80% train, 20% test)\n",
        "X_train, X_test, y_train, y_test = train_test_split(X, y, test_size=0.2, random_state=42)\n",
        "\n",
        "# Create and train the Decision Tree Classifier with Entropy\n",
        "clf = DecisionTreeClassifier(criterion='entropy', random_state=42)\n",
        "clf.fit(X_train, y_train)\n",
        "\n",
        "# Predict on the test set\n",
        "y_pred = clf.predict(X_test)\n",
        "\n",
        "# Calculate and print model accuracy\n",
        "accuracy = accuracy_score(y_test, y_pred)\n",
        "print(\"Model Accuracy using Entropy criterion:\", round(accuracy * 100, 2), \"%\")\n"
      ],
      "metadata": {
        "colab": {
          "base_uri": "https://localhost:8080/"
        },
        "id": "iZcGtQQPh8kb",
        "outputId": "f34fc7ec-5afa-44c6-bcc1-11c991cc0b91"
      },
      "execution_count": null,
      "outputs": [
        {
          "output_type": "stream",
          "name": "stdout",
          "text": [
            "Model Accuracy using Entropy criterion: 100.0 %\n"
          ]
        }
      ]
    },
    {
      "cell_type": "code",
      "source": [
        "#  Write a Python program to train a Decision Tree Regressor on a housing dataset and evaluate using Mean Squared Error (MSE)\n",
        "# Import necessary libraries\n",
        "from sklearn.datasets import fetch_california_housing\n",
        "from sklearn.tree import DecisionTreeRegressor\n",
        "from sklearn.model_selection import train_test_split\n",
        "from sklearn.metrics import mean_squared_error\n",
        "\n",
        "# Load the California housing dataset\n",
        "housing = fetch_california_housing()\n",
        "X = housing.data\n",
        "y = housing.target\n",
        "\n",
        "# Split the dataset into training and testing sets (80% train, 20% test)\n",
        "X_train, X_test, y_train, y_test = train_test_split(X, y, test_size=0.2, random_state=42)\n",
        "\n",
        "# Train the Decision Tree Regressor\n",
        "regressor = DecisionTreeRegressor(random_state=42)\n",
        "regressor.fit(X_train, y_train)\n",
        "\n",
        "# Predict on the test set\n",
        "y_pred = regressor.predict(X_test)\n",
        "\n",
        "# Evaluate using Mean Squared Error\n",
        "mse = mean_squared_error(y_test, y_pred)\n",
        "print(\"Mean Squared Error (MSE):\", round(mse, 4))\n"
      ],
      "metadata": {
        "colab": {
          "base_uri": "https://localhost:8080/"
        },
        "id": "VWFgjUsZiEs2",
        "outputId": "e826a183-bd11-4926-fe57-dcad9dfd081c"
      },
      "execution_count": null,
      "outputs": [
        {
          "output_type": "stream",
          "name": "stdout",
          "text": [
            "Mean Squared Error (MSE): 0.4952\n"
          ]
        }
      ]
    },
    {
      "cell_type": "code",
      "source": [
        "# Write a Python program to train a Decision Tree Classifier and visualize the tree using graphviz*\n",
        "\n",
        "from sklearn.datasets import load_iris\n",
        "from sklearn.tree import DecisionTreeClassifier, export_graphviz\n",
        "from sklearn.model_selection import train_test_split\n",
        "import graphviz\n",
        "\n",
        "# Load the Iris dataset\n",
        "iris = load_iris()\n",
        "X = iris.data\n",
        "y = iris.target\n",
        "\n",
        "# Split the dataset into training and testing sets\n",
        "X_train, X_test, y_train, y_test = train_test_split(X, y, random_state=42)\n",
        "\n",
        "# Train a Decision Tree Classifier\n",
        "clf = DecisionTreeClassifier(criterion='gini', random_state=42)\n",
        "clf.fit(X_train, y_train)\n",
        "\n",
        "# Export the decision tree in DOT format\n",
        "dot_data = export_graphviz(\n",
        "    clf,\n",
        "    out_file=None,\n",
        "    feature_names=iris.feature_names,\n",
        "    class_names=iris.target_names,\n",
        "    filled=True,\n",
        "    rounded=True,\n",
        "    special_characters=True\n",
        ")\n",
        "\n",
        "# Visualize the decision tree using graphviz\n",
        "graph = graphviz.Source(dot_data)\n",
        "graph.render(\"iris_decision_tree\")  # Saves as iris_decision_tree.pdf\n",
        "graph.view()  # Opens the PDF file for visualization\n"
      ],
      "metadata": {
        "colab": {
          "base_uri": "https://localhost:8080/",
          "height": 35
        },
        "id": "rbCRFjL-iPsW",
        "outputId": "35f1f66b-42dd-48e5-a510-86ea3239aa75"
      },
      "execution_count": null,
      "outputs": [
        {
          "output_type": "execute_result",
          "data": {
            "text/plain": [
              "'iris_decision_tree.pdf'"
            ],
            "application/vnd.google.colaboratory.intrinsic+json": {
              "type": "string"
            }
          },
          "metadata": {},
          "execution_count": 17
        }
      ]
    },
    {
      "cell_type": "code",
      "source": [
        "# Write a Python program to train a Decision Tree Classifier with a maximum depth of 3 and compare its\n",
        "# accuracy with a fully grown tree*\n",
        "\n",
        "from sklearn.datasets import load_iris\n",
        "from sklearn.tree import DecisionTreeClassifier\n",
        "from sklearn.model_selection import train_test_split\n",
        "from sklearn.metrics import accuracy_score\n",
        "\n",
        "# Load the Iris dataset\n",
        "iris = load_iris()\n",
        "X = iris.data\n",
        "y = iris.target\n",
        "\n",
        "# Split into training and testing sets (80% train, 20% test)\n",
        "X_train, X_test, y_train, y_test = train_test_split(X, y, test_size=0.2, random_state=42)\n",
        "\n",
        "# Train Decision Tree with max depth = 3\n",
        "clf_limited = DecisionTreeClassifier(max_depth=3, random_state=42)\n",
        "clf_limited.fit(X_train, y_train)\n",
        "y_pred_limited = clf_limited.predict(X_test)\n",
        "accuracy_limited = accuracy_score(y_test, y_pred_limited)\n",
        "\n",
        "# Train fully grown Decision Tree (no max_depth)\n",
        "clf_full = DecisionTreeClassifier(random_state=42)\n",
        "clf_full.fit(X_train, y_train)\n",
        "y_pred_full = clf_full.predict(X_test)\n",
        "accuracy_full = accuracy_score(y_test, y_pred_full)\n",
        "\n",
        "# Print accuracies\n",
        "print(\"Accuracy with max depth = 3:\", round(accuracy_limited * 100, 2), \"%\")\n",
        "print(\"Accuracy with fully grown tree:\", round(accuracy_full * 100, 2), \"%\")\n"
      ],
      "metadata": {
        "colab": {
          "base_uri": "https://localhost:8080/"
        },
        "id": "LFKX3GCxiqtE",
        "outputId": "504a8ee4-575f-47ca-be28-0e596c6a1164"
      },
      "execution_count": null,
      "outputs": [
        {
          "output_type": "stream",
          "name": "stdout",
          "text": [
            "Accuracy with max depth = 3: 100.0 %\n",
            "Accuracy with fully grown tree: 100.0 %\n"
          ]
        }
      ]
    },
    {
      "cell_type": "code",
      "source": [
        "# Write a Python program to train a Decision Tree Classifier using min_samples_split=5 and compare its\n",
        "# accuracy with a default tree*\n",
        "\n",
        "from sklearn.datasets import load_iris\n",
        "from sklearn.tree import DecisionTreeClassifier\n",
        "from sklearn.model_selection import train_test_split\n",
        "from sklearn.metrics import accuracy_score\n",
        "\n",
        "# Load the Iris dataset\n",
        "iris = load_iris()\n",
        "X = iris.data\n",
        "y = iris.target\n",
        "\n",
        "# Split into training and testing sets (80% train, 20% test)\n",
        "X_train, X_test, y_train, y_test = train_test_split(X, y, test_size=0.2, random_state=42)\n",
        "\n",
        "# Train Decision Tree with min_samples_split=5\n",
        "clf_custom = DecisionTreeClassifier(min_samples_split=5, random_state=42)\n",
        "clf_custom.fit(X_train, y_train)\n",
        "y_pred_custom = clf_custom.predict(X_test)\n",
        "accuracy_custom = accuracy_score(y_test, y_pred_custom)\n",
        "\n",
        "# Train Decision Tree with default settings\n",
        "clf_default = DecisionTreeClassifier(random_state=42)\n",
        "clf_default.fit(X_train, y_train)\n",
        "y_pred_default = clf_default.predict(X_test)\n",
        "accuracy_default = accuracy_score(y_test, y_pred_default)\n",
        "\n",
        "# Print accuracies\n",
        "print(\"Accuracy with min_samples_split=5:\", round(accuracy_custom * 100, 2), \"%\")\n",
        "print(\"Accuracy with default tree:\", round(accuracy_default * 100, 2), \"%\")\n"
      ],
      "metadata": {
        "colab": {
          "base_uri": "https://localhost:8080/"
        },
        "id": "IQWRVJXoizAM",
        "outputId": "12fe5e69-1848-440b-89ae-80bdbef85684"
      },
      "execution_count": null,
      "outputs": [
        {
          "output_type": "stream",
          "name": "stdout",
          "text": [
            "Accuracy with min_samples_split=5: 100.0 %\n",
            "Accuracy with default tree: 100.0 %\n"
          ]
        }
      ]
    },
    {
      "cell_type": "code",
      "source": [
        "# Write a Python program to apply feature scaling before training a Decision Tree Classifier\n",
        "# and compare its accuracy with unscaled data\n",
        "\n",
        "from sklearn.datasets import load_iris\n",
        "from sklearn.model_selection import train_test_split\n",
        "from sklearn.tree import DecisionTreeClassifier\n",
        "from sklearn.preprocessing import StandardScaler\n",
        "from sklearn.metrics import accuracy_score\n",
        "\n",
        "# Load dataset\n",
        "iris = load_iris()\n",
        "X = iris.data\n",
        "y = iris.target\n",
        "\n",
        "# Split data\n",
        "X_train, X_test, y_train, y_test = train_test_split(X, y, test_size=0.2, random_state=42)\n",
        "\n",
        "# 1. Train and evaluate on unscaled data\n",
        "clf_unscaled = DecisionTreeClassifier(random_state=42)\n",
        "clf_unscaled.fit(X_train, y_train)\n",
        "y_pred_unscaled = clf_unscaled.predict(X_test)\n",
        "accuracy_unscaled = accuracy_score(y_test, y_pred_unscaled)\n",
        "\n",
        "# 2. Apply feature scaling\n",
        "scaler = StandardScaler()\n",
        "X_train_scaled = scaler.fit_transform(X_train)\n",
        "X_test_scaled = scaler.transform(X_test)\n",
        "\n",
        "# Train and evaluate on scaled data\n",
        "clf_scaled = DecisionTreeClassifier(random_state=42)\n",
        "clf_scaled.fit(X_train_scaled, y_train)\n",
        "y_pred_scaled = clf_scaled.predict(X_test_scaled)\n",
        "accuracy_scaled = accuracy_score(y_test, y_pred_scaled)\n",
        "\n",
        "# Print comparison\n",
        "print(\"Accuracy without feature scaling:\", accuracy_unscaled)\n",
        "print(\"Accuracy with feature scaling:   \", accuracy_scaled)\n"
      ],
      "metadata": {
        "colab": {
          "base_uri": "https://localhost:8080/"
        },
        "id": "kDnREhg5i8HG",
        "outputId": "b0c0a5dc-5fe4-4a17-e39a-c342c20117fe"
      },
      "execution_count": null,
      "outputs": [
        {
          "output_type": "stream",
          "name": "stdout",
          "text": [
            "Accuracy without feature scaling: 1.0\n",
            "Accuracy with feature scaling:    1.0\n"
          ]
        }
      ]
    },
    {
      "cell_type": "code",
      "source": [
        "# * Write a Python program to train a Decision Tree Classifier using One-vs-Rest (OvR) strategy for multiclass classification *\n",
        "\n",
        "from sklearn.datasets import load_iris\n",
        "from sklearn.model_selection import train_test_split\n",
        "from sklearn.tree import DecisionTreeClassifier\n",
        "from sklearn.multiclass import OneVsRestClassifier\n",
        "from sklearn.metrics import accuracy_score\n",
        "\n",
        "# Load dataset (Iris dataset is multiclass: 3 classes)\n",
        "iris = load_iris()\n",
        "X = iris.data\n",
        "y = iris.target\n",
        "\n",
        "# Split into training and test sets\n",
        "X_train, X_test, y_train, y_test = train_test_split(X, y, test_size=0.2, random_state=42)\n",
        "\n",
        "# Wrap DecisionTreeClassifier in OneVsRestClassifier\n",
        "ovr_classifier = OneVsRestClassifier(DecisionTreeClassifier(random_state=42))\n",
        "\n",
        "# Train the OvR model\n",
        "ovr_classifier.fit(X_train, y_train)\n",
        "\n",
        "# Make predictions\n",
        "y_pred = ovr_classifier.predict(X_test)\n",
        "\n",
        "# Evaluate accuracy\n",
        "accuracy = accuracy_score(y_test, y_pred)\n",
        "print(\"Accuracy of Decision Tree using One-vs-Rest strategy:\", accuracy)\n"
      ],
      "metadata": {
        "colab": {
          "base_uri": "https://localhost:8080/"
        },
        "id": "eThctTTUjpx-",
        "outputId": "af2fdb58-fcb7-4182-cac6-22f84c8c9ab1"
      },
      "execution_count": null,
      "outputs": [
        {
          "output_type": "stream",
          "name": "stdout",
          "text": [
            "Accuracy of Decision Tree using One-vs-Rest strategy: 1.0\n"
          ]
        }
      ]
    },
    {
      "cell_type": "code",
      "source": [
        "# * Write a Python program to train a Decision Tree Classifier and display the feature importance scores *\n",
        "\n",
        "from sklearn.datasets import load_iris\n",
        "from sklearn.model_selection import train_test_split\n",
        "from sklearn.tree import DecisionTreeClassifier\n",
        "import pandas as pd\n",
        "\n",
        "# Load dataset\n",
        "iris = load_iris()\n",
        "X = iris.data\n",
        "y = iris.target\n",
        "feature_names = iris.feature_names\n",
        "\n",
        "# Split data into training and test sets\n",
        "X_train, X_test, y_train, y_test = train_test_split(X, y, test_size=0.2, random_state=42)\n",
        "\n",
        "# Train Decision Tree Classifier\n",
        "clf = DecisionTreeClassifier(random_state=42)\n",
        "clf.fit(X_train, y_train)\n",
        "\n",
        "# Get feature importance scores\n",
        "importance_scores = clf.feature_importances_\n",
        "\n",
        "# Display feature importance as a DataFrame\n",
        "importance_df = pd.DataFrame({\n",
        "    'Feature': feature_names,\n",
        "    'Importance': importance_scores\n",
        "}).sort_values(by='Importance', ascending=False)\n",
        "\n",
        "print(\"Feature Importance Scores:\")\n",
        "print(importance_df)\n"
      ],
      "metadata": {
        "colab": {
          "base_uri": "https://localhost:8080/"
        },
        "id": "U8ImGjURjyj_",
        "outputId": "80d0c9fd-e2ef-4c4c-a050-3e63d65cb9f8"
      },
      "execution_count": null,
      "outputs": [
        {
          "output_type": "stream",
          "name": "stdout",
          "text": [
            "Feature Importance Scores:\n",
            "             Feature  Importance\n",
            "2  petal length (cm)    0.906143\n",
            "3   petal width (cm)    0.077186\n",
            "1   sepal width (cm)    0.016670\n",
            "0  sepal length (cm)    0.000000\n"
          ]
        }
      ]
    },
    {
      "cell_type": "code",
      "source": [
        "# * Write a Python program to train a Decision Tree Regressor with max_depth=5 and compare its performance with an unrestricted tree *\n",
        "\n",
        "from sklearn.datasets import fetch_california_housing\n",
        "from sklearn.model_selection import train_test_split\n",
        "from sklearn.tree import DecisionTreeRegressor\n",
        "from sklearn.metrics import mean_squared_error, r2_score\n",
        "\n",
        "# Load dataset (California housing is a good regression dataset)\n",
        "data = fetch_california_housing()\n",
        "X = data.data\n",
        "y = data.target\n",
        "\n",
        "# Split data\n",
        "X_train, X_test, y_train, y_test = train_test_split(X, y, test_size=0.2, random_state=42)\n",
        "\n",
        "# Train Decision Tree Regressor with max_depth=5\n",
        "reg_limited = DecisionTreeRegressor(max_depth=5, random_state=42)\n",
        "reg_limited.fit(X_train, y_train)\n",
        "y_pred_limited = reg_limited.predict(X_test)\n",
        "\n",
        "# Train unrestricted Decision Tree Regressor (default)\n",
        "reg_unrestricted = DecisionTreeRegressor(random_state=42)\n",
        "reg_unrestricted.fit(X_train, y_train)\n",
        "y_pred_unrestricted = reg_unrestricted.predict(X_test)\n",
        "\n",
        "# Evaluate performance\n",
        "mse_limited = mean_squared_error(y_test, y_pred_limited)\n",
        "r2_limited = r2_score(y_test, y_pred_limited)\n",
        "\n",
        "mse_unrestricted = mean_squared_error(y_test, y_pred_unrestricted)\n",
        "r2_unrestricted = r2_score(y_test, y_pred_unrestricted)\n",
        "\n",
        "print(\"Performance with max_depth=5:\")\n",
        "print(\"MSE:\", mse_limited)\n",
        "print(\"R² Score:\", r2_limited)\n",
        "\n",
        "print(\"\\nPerformance with unrestricted depth:\")\n",
        "print(\"MSE:\", mse_unrestricted)\n",
        "print(\"R² Score:\", r2_unrestricted)\n"
      ],
      "metadata": {
        "colab": {
          "base_uri": "https://localhost:8080/"
        },
        "id": "dBnUuWFIj63f",
        "outputId": "159835f8-37cf-43a1-940d-efbf7d850817"
      },
      "execution_count": null,
      "outputs": [
        {
          "output_type": "stream",
          "name": "stdout",
          "text": [
            "Performance with max_depth=5:\n",
            "MSE: 0.5245146178314735\n",
            "R² Score: 0.5997321244428706\n",
            "\n",
            "Performance with unrestricted depth:\n",
            "MSE: 0.495235205629094\n",
            "R² Score: 0.622075845135081\n"
          ]
        }
      ]
    },
    {
      "cell_type": "code",
      "source": [
        "# * Write a Python program to train a Decision Tree Classifier, apply Cost Complexity Pruning (CCP), and visualize its effect on accuracy *\n",
        "\n",
        "from sklearn.datasets import load_iris\n",
        "from sklearn.model_selection import train_test_split\n",
        "from sklearn.tree import DecisionTreeClassifier\n",
        "from sklearn.metrics import accuracy_score\n",
        "import matplotlib.pyplot as plt\n",
        "\n",
        "# Load dataset\n",
        "iris = load_iris()\n",
        "X = iris.data\n",
        "y = iris.target\n",
        "\n",
        "# Split dataset\n",
        "X_train, X_test, y_train, y_test = train_test_split(X, y, test_size=0.3, random_state=42)\n",
        "\n",
        "# Train initial tree to get effective alphas\n",
        "clf = DecisionTreeClassifier(random_state=42)\n",
        "path = clf.cost_complexity_pruning_path(X_train, y_train)\n",
        "ccp_alphas = path.ccp_alphas[:-1]  # exclude the maximum alpha that prunes the tree to a root\n",
        "clfs = []\n",
        "\n",
        "# Train a tree for each alpha\n",
        "for ccp_alpha in ccp_alphas:\n",
        "    clf = DecisionTreeClassifier(random_state=42, ccp_alpha=ccp_alpha)\n",
        "    clf.fit(X_train, y_train)\n",
        "    clfs.append(clf)\n",
        "\n",
        "# Measure accuracy for each alpha\n",
        "train_scores = [accuracy_score(y_train, clf.predict(X_train)) for clf in clfs]\n",
        "test_scores = [accuracy_score(y_test, clf.predict(X_test)) for clf in clfs]\n",
        "\n",
        "# Plotting the results\n",
        "plt.figure(figsize=(10, 6))\n",
        "plt.plot(ccp_alphas, train_scores, marker='o', label='Train Accuracy', drawstyle=\"steps-post\")\n",
        "plt.plot(ccp_alphas, test_scores, marker='o', label='Test Accuracy', drawstyle=\"steps-post\")\n",
        "plt.xlabel(\"CCP Alpha\")\n",
        "plt.ylabel(\"Accuracy\")\n",
        "plt.title(\"Effect of Cost Complexity Pruning on Accuracy\")\n",
        "plt.legend()\n",
        "plt.grid(True)\n",
        "plt.show()\n"
      ],
      "metadata": {
        "colab": {
          "base_uri": "https://localhost:8080/",
          "height": 564
        },
        "id": "K4EfhHCpkDSX",
        "outputId": "475965a2-d47b-4eb2-b581-d05dcc4ac8b0"
      },
      "execution_count": null,
      "outputs": [
        {
          "output_type": "display_data",
          "data": {
            "text/plain": [
              "<Figure size 1000x600 with 1 Axes>"
            ],
            "image/png": "[encoded data removed]"
          },
          "metadata": {}
        }
      ]
    },
    {
      "cell_type": "code",
      "source": [
        "# * Write a Python program to train a Decision Tree Classifier and evaluate its performance using Precision, Recall, and F1-Score *\n",
        "\n",
        "from sklearn.datasets import load_iris\n",
        "from sklearn.model_selection import train_test_split\n",
        "from sklearn.tree import DecisionTreeClassifier\n",
        "from sklearn.metrics import classification_report\n",
        "\n",
        "# Load dataset\n",
        "iris = load_iris()\n",
        "X = iris.data\n",
        "y = iris.target\n",
        "\n",
        "# Split into train and test sets\n",
        "X_train, X_test, y_train, y_test = train_test_split(X, y, test_size=0.3, random_state=42)\n",
        "\n",
        "# Train Decision Tree Classifier\n",
        "clf = DecisionTreeClassifier(random_state=42)\n",
        "clf.fit(X_train, y_train)\n",
        "\n",
        "# Predict on test set\n",
        "y_pred = clf.predict(X_test)\n",
        "\n",
        "# Evaluate using Precision, Recall, and F1-Score\n",
        "report = classification_report(y_test, y_pred, target_names=iris.target_names)\n",
        "print(\"Classification Report:\")\n",
        "print(report)\n"
      ],
      "metadata": {
        "colab": {
          "base_uri": "https://localhost:8080/"
        },
        "id": "0q_m8Z-gkNcc",
        "outputId": "9a88b2e9-d11d-4422-da42-e14da2b898e8"
      },
      "execution_count": null,
      "outputs": [
        {
          "output_type": "stream",
          "name": "stdout",
          "text": [
            "Classification Report:\n",
            "              precision    recall  f1-score   support\n",
            "\n",
            "      setosa       1.00      1.00      1.00        19\n",
            "  versicolor       1.00      1.00      1.00        13\n",
            "   virginica       1.00      1.00      1.00        13\n",
            "\n",
            "    accuracy                           1.00        45\n",
            "   macro avg       1.00      1.00      1.00        45\n",
            "weighted avg       1.00      1.00      1.00        45\n",
            "\n"
          ]
        }
      ]
    },
    {
      "cell_type": "code",
      "source": [
        "# * Write a Python program to train a Decision Tree Classifier and visualize the confusion matrix using seaborn *\n",
        "\n",
        "from sklearn.datasets import load_iris\n",
        "from sklearn.model_selection import train_test_split\n",
        "from sklearn.tree import DecisionTreeClassifier\n",
        "from sklearn.metrics import confusion_matrix\n",
        "import seaborn as sns\n",
        "import matplotlib.pyplot as plt\n",
        "\n",
        "# Load dataset\n",
        "iris = load_iris()\n",
        "X = iris.data\n",
        "y = iris.target\n",
        "class_names = iris.target_names\n",
        "\n",
        "# Split into train and test sets\n",
        "X_train, X_test, y_train, y_test = train_test_split(X, y, test_size=0.3, random_state=42)\n",
        "\n",
        "# Train Decision Tree Classifier\n",
        "clf = DecisionTreeClassifier(random_state=42)\n",
        "clf.fit(X_train, y_train)\n",
        "\n",
        "# Predict on test set\n",
        "y_pred = clf.predict(X_test)\n",
        "\n",
        "# Generate confusion matrix\n",
        "cm = confusion_matrix(y_test, y_pred)\n",
        "\n",
        "# Plot confusion matrix using seaborn\n",
        "plt.figure(figsize=(6, 5))\n",
        "sns.heatmap(cm, annot=True, fmt='d', cmap='Blues', xticklabels=class_names, yticklabels=class_names)\n",
        "plt.xlabel('Predicted Label')\n",
        "plt.ylabel('True Label')\n",
        "plt.title('Confusion Matrix - Decision Tree Classifier')\n",
        "plt.show()\n"
      ],
      "metadata": {
        "colab": {
          "base_uri": "https://localhost:8080/",
          "height": 487
        },
        "id": "7e95H7jWker2",
        "outputId": "3dec9f4c-1348-4bf4-b8a9-2e35d1d95ac2"
      },
      "execution_count": null,
      "outputs": [
        {
          "output_type": "display_data",
          "data": {
            "text/plain": [
              "<Figure size 600x500 with 2 Axes>"
            ],
            "image/png": "[encoded data removed]"
          },
          "metadata": {}
        }
      ]
    },
    {
      "cell_type": "code",
      "source": [
        "# * Write a Python program to train a Decision Tree Classifier and use GridSearchCV to find the optimal values for max_depth and min_samples_split. *\n",
        "\n",
        "from sklearn.datasets import load_iris\n",
        "from sklearn.model_selection import train_test_split, GridSearchCV\n",
        "from sklearn.tree import DecisionTreeClassifier\n",
        "from sklearn.metrics import accuracy_score\n",
        "\n",
        "# Load dataset\n",
        "iris = load_iris()\n",
        "X = iris.data\n",
        "y = iris.target\n",
        "\n",
        "# Split dataset\n",
        "X_train, X_test, y_train, y_test = train_test_split(X, y, test_size=0.3, random_state=42)\n",
        "\n",
        "# Define parameter grid\n",
        "param_grid = {\n",
        "    'max_depth': [2, 3, 4, 5, 6, None],\n",
        "    'min_samples_split': [2, 5, 10]\n",
        "}\n",
        "\n",
        "# Create Decision Tree Classifier\n",
        "clf = DecisionTreeClassifier(random_state=42)\n",
        "\n",
        "# Perform Grid Search with 5-fold cross-validation\n",
        "grid_search = GridSearchCV(clf, param_grid, cv=5, scoring='accuracy')\n",
        "grid_search.fit(X_train, y_train)\n",
        "\n",
        "# Best parameters\n",
        "print(\"Best Parameters:\", grid_search.best_params_)\n",
        "\n",
        "# Evaluate on test set\n",
        "best_model = grid_search.best_estimator_\n",
        "y_pred = best_model.predict(X_test)\n",
        "accuracy = accuracy_score(y_test, y_pred)\n",
        "print(\"Test Set Accuracy with Best Parameters:\", accuracy)\n"
      ],
      "metadata": {
        "colab": {
          "base_uri": "https://localhost:8080/"
        },
        "id": "WMzBpgTbkmlR",
        "outputId": "9477e0b0-ffa0-4d33-abbb-325ca0ddba05"
      },
      "execution_count": null,
      "outputs": [
        {
          "output_type": "stream",
          "name": "stdout",
          "text": [
            "Best Parameters: {'max_depth': 4, 'min_samples_split': 10}\n",
            "Test Set Accuracy with Best Parameters: 1.0\n"
          ]
        }
      ]
    },
    {
      "cell_type": "code",
      "source": [],
      "metadata": {
        "id": "Q5Bsho1hkvGc"
      },
      "execution_count": null,
      "outputs": []
    }
  ]
}